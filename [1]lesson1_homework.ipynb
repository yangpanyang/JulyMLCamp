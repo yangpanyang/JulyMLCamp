{
 "cells": [
  {
   "cell_type": "markdown",
   "metadata": {},
   "source": [
    "# python练习题\n",
    "\n",
    "整理 by 寒小阳\n",
    "\n",
    "\n",
    "## Very simple exercises\n",
    "\n",
    "1.Define a function `max()` that takes two numbers as arguments and returns the largest of them. Use the if-then-else construct available in Python. (It is true that Python has the `max()` function built in, but writing it yourself is nevertheless a good exercise ).\n",
    "\n",
    "\n",
    "2.Define a function `max_of_three()` that takes three numbers as arguments and returns the largest of them.\n",
    "\n",
    "\n",
    "3.Define a function `sum()` and a function `multiply()` that sums and multiplies (respectively) all the numbers in a list of numbers. For example, `sum([1, 2, 3, 4])` should return `10`, and `multiply([1, 2, 3, 4])` should return `24`.\n",
    "\n",
    "\n",
    "4.Define a function `reverse()` that computes the reversal of a string. For example, `reverse( \"I am testing\" )` should return the string `\"gnitset ma I\"`.\n",
    "\n",
    "\n",
    "5.Write a function `is_member()` that takes a value ( i.e. a number, string, etc ) `x` and a list of values `a`, and returns True if `x` is a member of `a`, `False` otherwise. (Note that this is exactly what the in operator does, but for the sake of the exercise you should pretend Python did not have this operator).\n",
    "\n",
    "\n",
    "6.Define a function `overlapping()` that takes two lists and returns `True` if they have at least one member in common, `False` otherwise. You may use your `is_member()` function, or the in operator, but for the sake of the exercise, you should (also) write it using two nested for-loops.\n",
    "\n",
    "\n",
    "7.Define a function `generate_n_chars()` that takes an integer `n` and a character `c` and returns a string, `n` characters long, consisting only of c:s. For example, `generate_n_chars( 5,\"x\" )` should return the string `\"xxxxx\"`. (Python is unusual in that you can actually write an expression `5 * \"x\"` that will evaluate to `\"xxxxx\"`. For the sake of the exercise you should ignore that the problem can be solved in this manner ).\n",
    "\n",
    "\n",
    "8.Define a procedure `histogram()` that takes a list of integers and prints a histogram to the screen. For example, `histogram( [ 4, 9, 7 ] )` should print the following:\n",
    "\n",
    "  ```\n",
    "    ****\n",
    "    *********\n",
    "    *******\n",
    "  ```\n",
    "\n",
    "\n",
    "9.The function `max()` from exercise 1) and the function `max_of_three()` from exercise 2) will only work for two and three numbers, respectively. But suppose we have a much larger number of numbers, or suppose we cannot tell in advance how many they are? Write a function `max_in_list()` that takes a list of numbers and returns the largest one.\n",
    "\n",
    "\n",
    "10.Write a program that maps a list of words into a list of integers representing the lengths of the corresponding words.\n",
    "\n",
    "\n",
    "11.Write a function `find_longest_word()` that takes a list of words and returns the length of the longest one.\n",
    "\n",
    "\n",
    "12.Write a function `filter_long_words()` that takes a list of words and an integer `n` and returns the list of words that are longer than `n`.\n",
    "\n",
    "\n",
    "13.Write a function `char_freq()` that takes a string and builds a frequency listing of the characters contained in it. Represent the frequency listing as a Python dictionary. Try it with something like `char_freq(\"abbabcbdbabdbdbabababcbcbab\")`.\n",
    "\n",
    "\n",
    "14.Define a simple \"spelling correction\" function `correct()` that takes a string and sees to it that 1) two or more occurrences of the space character is compressed into one, and 2) inserts an extra space after a period if the period is directly followed by a letter. E.g. `correct(\"This   is  very funny  and    cool.Indeed!\")` should return \"This is very funny and cool. Indeed!\" Tip: Use regular expressions!\n",
    "\n",
    "\n",
    "15.Using the higher order function `reduce()`, write a function `max_in_list()` that takes a list of numbers and returns the largest one. Then ask yourself: why define and call a new function, when I can just as well call the `reduce()` function directly?\n",
    "\n",
    "\n",
    "16.Write a program that maps a list of words into a list of integers representing the lengths of the corresponding words. Write it in three different ways: 1) using a for-loop, 2) using the higher order function `map()`, and 3) using list comprehensions.\n",
    "\n",
    "\n",
    "## Somewhat harder exercises\n",
    "\n",
    "17.A sentence splitter is a program capable of splitting a text into sentences. The standard set of heuristics for sentence splitting includes (but isn't limited to) the following rules:\n",
    "\n",
    " Sentence boundaries occur at one of \".\" (periods), \"?\" or \"!\", except that\n",
    "\n",
    "  1. Periods followed by whitespace followed by a lower case letter are not sentence boundaries.\n",
    "  \n",
    "  2. Periods followed by a digit with no intervening whitespace are not sentence boundaries.\n",
    "  \n",
    "  3. Periods followed by whitespace and then an upper case letter, but preceded by any of a short list of titles are not sentence boundaries. Sample titles include Mr., Mrs., Dr., and so on.\n",
    "  \n",
    "  4. Periods internal to a sequence of letters with no adjacent whitespace are not sentence boundaries (for example, www.aptex.com, or e.g).\n",
    "  \n",
    "  5. Periods followed by certain kinds of punctuation (notably comma and more periods) are probably not sentence boundaries.\n",
    "  \n",
    "  6. Your task here is to write a program that given the name of a text file is able to write its content with each sentence on a separate line. Test your program with the following short text:\n",
    "  \n",
    "\n",
    "  ```\n",
    "    Mr. Smith bought cheapsite.com for 1.5 million dollars, i.e. he paid a lot for it. Did he mind? Adam Jones Jr. thinks he didn't. In any case, this isn't true... Well, with a probability of .9 it isn't.\n",
    "  ```\n",
    "  The result should be:\n",
    "  ```\n",
    "  Mr. Smith bought cheapsite.com for 1.5 million dollars, i.e. he paid a lot for it.\n",
    "  Did he mind?\n",
    "  Adam Jones Jr. thinks he didn't.\n",
    "  In any case, this isn't true...\n",
    "  Well, with a probability of .9 it isn't.\n",
    "  ```\n",
    "\n",
    "\n",
    "7.Your task in this exercise is as follows:\n",
    "\n",
    "  Generate a string with N opening brackets (\"[\") and N closing brackets (\"]\"), in some arbitrary order.\n",
    "  \n",
    "  Determine whether the generated string is balanced; that is, whether it consists entirely of pairs of opening/closing brackets (in that order), none of which mis-nest.\n",
    "  \n",
    "  Examples:\n",
    "\n",
    "  ```\n",
    "     []        OK   ][        NOT OK\n",
    "     [][]      OK   ][][      NOT OK\n",
    "     [[][]]    OK   []][[]    NOT OK\n",
    "  ```"
   ]
  },
  {
   "cell_type": "markdown",
   "metadata": {},
   "source": [
    "## 第一次在线课习题"
   ]
  },
  {
   "cell_type": "markdown",
   "metadata": {},
   "source": [
    "1.Define a function max() that takes two numbers as arguments and returns the largest of them. Use the if-then-else construct available in Python. (It is true that Python has the max() function built in, but writing it yourself is nevertheless a good exercise )."
   ]
  },
  {
   "cell_type": "code",
   "execution_count": 1,
   "metadata": {
    "collapsed": true
   },
   "outputs": [],
   "source": [
    "def max(a, b):\n",
    "    if a < b:\n",
    "        return b\n",
    "    else:\n",
    "        return a"
   ]
  },
  {
   "cell_type": "code",
   "execution_count": 10,
   "metadata": {
    "collapsed": false
   },
   "outputs": [
    {
     "name": "stdout",
     "output_type": "stream",
     "text": [
      "5\n",
      "a\n",
      "120\n"
     ]
    }
   ],
   "source": [
    "print max(2,5)\n",
    "print max('a', 10)\n",
    "print max(-2, 120)"
   ]
  },
  {
   "cell_type": "markdown",
   "metadata": {},
   "source": [
    "2.Define a function max_of_three() that takes three numbers as arguments and returns the largest of them."
   ]
  },
  {
   "cell_type": "code",
   "execution_count": 5,
   "metadata": {
    "collapsed": true
   },
   "outputs": [],
   "source": [
    "def max_of_three(n1, n2, n3):\n",
    "    if n1 >= n2:\n",
    "        if n1 >= n3:\n",
    "            return n1\n",
    "        else:\n",
    "            return n3\n",
    "    else:\n",
    "        if n2 >= n3:\n",
    "            return n2\n",
    "        else:\n",
    "            return n3"
   ]
  },
  {
   "cell_type": "code",
   "execution_count": 29,
   "metadata": {
    "collapsed": true
   },
   "outputs": [],
   "source": [
    "def max_of_three2(n1, n2, n3):\n",
    "    return max(max(n1,n2), n3)"
   ]
  },
  {
   "cell_type": "code",
   "execution_count": 9,
   "metadata": {
    "collapsed": false
   },
   "outputs": [
    {
     "name": "stdout",
     "output_type": "stream",
     "text": [
      "2\n",
      "4\n",
      "-1\n",
      "5\n"
     ]
    }
   ],
   "source": [
    "print max_of_three(1,1,2)\n",
    "print max_of_three(1,4,-1)\n",
    "print max_of_three(-1,-9,-10)\n",
    "print max_of_three(5,5,4)"
   ]
  },
  {
   "cell_type": "code",
   "execution_count": 30,
   "metadata": {
    "collapsed": false
   },
   "outputs": [
    {
     "name": "stdout",
     "output_type": "stream",
     "text": [
      "2\n",
      "4\n",
      "-1\n",
      "5\n"
     ]
    }
   ],
   "source": [
    "print max_of_three2(1,1,2)\n",
    "print max_of_three2(1,4,-1)\n",
    "print max_of_three2(-1,-9,-10)\n",
    "print max_of_three2(5,5,4)"
   ]
  },
  {
   "cell_type": "markdown",
   "metadata": {},
   "source": [
    "3.Define a function sum() and a function multiply() that sums and multiplies (respectively) all the numbers in a list of numbers. For example, sum([1, 2, 3, 4]) should return 10, and multiply([1, 2, 3, 4]) should return 24.\n",
    "\n",
    "## 思考：是否可以用mapreduce"
   ]
  },
  {
   "cell_type": "code",
   "execution_count": 26,
   "metadata": {
    "collapsed": true
   },
   "outputs": [],
   "source": [
    "def sum(l):\n",
    "    sum = 0\n",
    "    for a in l:\n",
    "        sum += a\n",
    "    return sum"
   ]
  },
  {
   "cell_type": "code",
   "execution_count": 27,
   "metadata": {
    "collapsed": true
   },
   "outputs": [],
   "source": [
    " def multiply(l):\n",
    "    sum = 1\n",
    "    for a in l:\n",
    "        sum *= a\n",
    "    return sum"
   ]
  },
  {
   "cell_type": "code",
   "execution_count": 28,
   "metadata": {
    "collapsed": false
   },
   "outputs": [
    {
     "name": "stdout",
     "output_type": "stream",
     "text": [
      "10\n",
      "24\n"
     ]
    }
   ],
   "source": [
    "print sum([1,2,3,4])\n",
    "print multiply([1,2,3,4])"
   ]
  },
  {
   "cell_type": "markdown",
   "metadata": {},
   "source": [
    "4.Define a function reverse() that computes the reversal of a string. For example, reverse( \"I am testing\" ) should return the string \"gnitset ma I\"."
   ]
  },
  {
   "cell_type": "code",
   "execution_count": 31,
   "metadata": {
    "collapsed": true
   },
   "outputs": [],
   "source": [
    "def reverse(str):\n",
    "    return str[::-1]"
   ]
  },
  {
   "cell_type": "code",
   "execution_count": 32,
   "metadata": {
    "collapsed": false
   },
   "outputs": [
    {
     "name": "stdout",
     "output_type": "stream",
     "text": [
      "!dlroW olleH\n"
     ]
    }
   ],
   "source": [
    "print reverse(\"Hello World!\")"
   ]
  },
  {
   "cell_type": "code",
   "execution_count": 96,
   "metadata": {
    "collapsed": true
   },
   "outputs": [],
   "source": [
    "def reverse2(str):\n",
    "    str1 = list(str)\n",
    "    restr = list(str)\n",
    "    for i,tmp in enumerate(str1):\n",
    "        restr[len(str1) - i - 1] = tmp\n",
    "    return ''.join(restr)"
   ]
  },
  {
   "cell_type": "code",
   "execution_count": 97,
   "metadata": {
    "collapsed": false
   },
   "outputs": [
    {
     "name": "stdout",
     "output_type": "stream",
     "text": [
      "!dlroW olleH\n"
     ]
    }
   ],
   "source": [
    "print reverse2(\"Hello World!\")"
   ]
  },
  {
   "cell_type": "markdown",
   "metadata": {},
   "source": [
    "5.Write a function is_member() that takes a value ( i.e. a number, string, etc ) x and a list of values a, and returns True if x is a member of a, False otherwise. (Note that this is exactly what the in operator does, but for the sake of the exercise you should pretend Python did not have this operator)."
   ]
  },
  {
   "cell_type": "code",
   "execution_count": 48,
   "metadata": {
    "collapsed": true
   },
   "outputs": [],
   "source": [
    "def is_member(a, x):\n",
    "    for n in a:\n",
    "        if x == n:\n",
    "            return True\n",
    "    return False"
   ]
  },
  {
   "cell_type": "code",
   "execution_count": 49,
   "metadata": {
    "collapsed": false
   },
   "outputs": [
    {
     "name": "stdout",
     "output_type": "stream",
     "text": [
      "False\n",
      "True\n",
      "False\n",
      "True\n"
     ]
    }
   ],
   "source": [
    "print is_member([2,3,6,12,19,-1], 9)\n",
    "print is_member([2,3,6,12,19,-1], 19)\n",
    "print is_member([\"I\", \"am\", \"a\", \"graduate\", \"student\"], 9)\n",
    "print is_member([\"I\", \"am\", \"a\", \"graduate\", \"student\"], 'a')"
   ]
  },
  {
   "cell_type": "markdown",
   "metadata": {},
   "source": [
    "6.Define a function overlapping() that takes two lists and returns True if they have at least one member in common, False otherwise. You may use your is_member() function, or the in operator, but for the sake of the exercise, you should (also) write it using two nested for-loops."
   ]
  },
  {
   "cell_type": "code",
   "execution_count": 50,
   "metadata": {
    "collapsed": true
   },
   "outputs": [],
   "source": [
    "def overlapping(list1, list2):\n",
    "    for l1 in list1:\n",
    "        if is_member(list2, l1):\n",
    "            return True\n",
    "    return False"
   ]
  },
  {
   "cell_type": "code",
   "execution_count": 51,
   "metadata": {
    "collapsed": false
   },
   "outputs": [
    {
     "name": "stdout",
     "output_type": "stream",
     "text": [
      "False\n",
      "True\n"
     ]
    }
   ],
   "source": [
    "print overlapping([1, 2, 4, 5, 7], [11, 12, 13, 14])\n",
    "print overlapping([1, 2, 4, 5, 7], [11, 12, 13, 14, 5])"
   ]
  },
  {
   "cell_type": "code",
   "execution_count": 52,
   "metadata": {
    "collapsed": true
   },
   "outputs": [],
   "source": [
    "def overlapping2(list1, list2):\n",
    "    for l1 in list1:\n",
    "        for l2 in list2:\n",
    "            if l1 == l2:\n",
    "                return True\n",
    "    return False"
   ]
  },
  {
   "cell_type": "code",
   "execution_count": 53,
   "metadata": {
    "collapsed": false
   },
   "outputs": [
    {
     "name": "stdout",
     "output_type": "stream",
     "text": [
      "False\n",
      "True\n"
     ]
    }
   ],
   "source": [
    "print overlapping2([1, 2, 4, 5, 7], [11, 12, 13, 14])\n",
    "print overlapping2([1, 2, 4, 5, 7], [11, 12, 13, 14, 5])"
   ]
  },
  {
   "cell_type": "markdown",
   "metadata": {},
   "source": [
    "7.Define a function generate_n_chars() that takes an integer n and a character c and returns a string, n characters long, consisting only of c:s. For example, generate_n_chars( 5,\"x\" ) should return the string \"xxxxx\". (Python is unusual in that you can actually write an expression 5 * \"x\" that will evaluate to \"xxxxx\". For the sake of the exercise you should ignore that the problem can be solved in this manner )."
   ]
  },
  {
   "cell_type": "code",
   "execution_count": 100,
   "metadata": {
    "collapsed": true
   },
   "outputs": [],
   "source": [
    "def generate_n_chars(n, c):\n",
    "    restr = ''\n",
    "    for i in range(n):\n",
    "        restr += c\n",
    "    return restr"
   ]
  },
  {
   "cell_type": "code",
   "execution_count": 101,
   "metadata": {
    "collapsed": false
   },
   "outputs": [
    {
     "name": "stdout",
     "output_type": "stream",
     "text": [
      "aaaaa\n"
     ]
    }
   ],
   "source": [
    "print generate_n_chars(5,'a')"
   ]
  },
  {
   "cell_type": "markdown",
   "metadata": {},
   "source": [
    "8.Define a procedure histogram() that takes a list of integers and prints a histogram to the screen. For example, histogram( [ 4, 9, 7 ] ) should print the following:\n",
    "    ****\n",
    "    *********\n",
    "    *******"
   ]
  },
  {
   "cell_type": "code",
   "execution_count": 119,
   "metadata": {
    "collapsed": true
   },
   "outputs": [],
   "source": [
    "def histogram(numlist):\n",
    "    for num in numlist:\n",
    "        yield generate_n_chars(num, '*')"
   ]
  },
  {
   "cell_type": "code",
   "execution_count": 122,
   "metadata": {
    "collapsed": false
   },
   "outputs": [
    {
     "name": "stdout",
     "output_type": "stream",
     "text": [
      "****\n",
      "*********\n",
      "*******\n"
     ]
    }
   ],
   "source": [
    "for n in histogram([4,9,7]):\n",
    "    print n"
   ]
  },
  {
   "cell_type": "markdown",
   "metadata": {},
   "source": [
    "9.The function max() from exercise 1) and the function max_of_three() from exercise 2) will only work for two and three numbers, respectively. But suppose we have a much larger number of numbers, or suppose we cannot tell in advance how many they are? Write a function max_in_list() that takes a list of numbers and returns the largest one."
   ]
  },
  {
   "cell_type": "code",
   "execution_count": 131,
   "metadata": {
    "collapsed": true
   },
   "outputs": [],
   "source": [
    "def max_in_list(numlist):\n",
    "    if len(numlist) == 0:\n",
    "        return None\n",
    "    else:\n",
    "        maxNum = numlist[0]\n",
    "        for num in numlist:\n",
    "            maxNum = max(num, maxNum)\n",
    "        return maxNum"
   ]
  },
  {
   "cell_type": "code",
   "execution_count": 132,
   "metadata": {
    "collapsed": false
   },
   "outputs": [
    {
     "name": "stdout",
     "output_type": "stream",
     "text": [
      "None\n",
      "1\n",
      "9\n",
      "9\n",
      "21\n"
     ]
    }
   ],
   "source": [
    "print max_in_list([])\n",
    "print max_in_list([1])\n",
    "print max_in_list([-1, 9])\n",
    "print max_in_list([5, 9, 0])\n",
    "print max_in_list([3,6,8,9,21,3,-5])"
   ]
  },
  {
   "cell_type": "markdown",
   "metadata": {},
   "source": [
    "10.Write a program that maps a list of words into a list of integers representing the lengths of the corresponding words."
   ]
  },
  {
   "cell_type": "code",
   "execution_count": 133,
   "metadata": {
    "collapsed": true
   },
   "outputs": [],
   "source": [
    "def mapWordLen(words):\n",
    "    wordDict = {}\n",
    "    for word in words:\n",
    "        wordDict[word] = len(word)\n",
    "    return wordDict"
   ]
  },
  {
   "cell_type": "code",
   "execution_count": 135,
   "metadata": {
    "collapsed": false
   },
   "outputs": [
    {
     "name": "stdout",
     "output_type": "stream",
     "text": [
      "{'I': 1, 'am': 2, 'student': 7}\n"
     ]
    }
   ],
   "source": [
    "print mapWordLen(['I', 'am', 'student'])"
   ]
  },
  {
   "cell_type": "markdown",
   "metadata": {},
   "source": [
    "11.Write a function find_longest_word() that takes a list of words and returns the length of the longest one."
   ]
  },
  {
   "cell_type": "code",
   "execution_count": 148,
   "metadata": {
    "collapsed": true
   },
   "outputs": [],
   "source": [
    "def find_longest_word(words):\n",
    "    wordDict = mapWordLen(words)\n",
    "    return max_in_list(wordDict.values())"
   ]
  },
  {
   "cell_type": "code",
   "execution_count": 149,
   "metadata": {
    "collapsed": false
   },
   "outputs": [
    {
     "name": "stdout",
     "output_type": "stream",
     "text": [
      "7\n"
     ]
    }
   ],
   "source": [
    "print find_longest_word(['I', 'am', 'student'])"
   ]
  },
  {
   "cell_type": "markdown",
   "metadata": {},
   "source": [
    "12.Write a function filter_long_words() that takes a list of words and an integer n and returns the list of words that are longer than n."
   ]
  },
  {
   "cell_type": "code",
   "execution_count": 172,
   "metadata": {
    "collapsed": true
   },
   "outputs": [],
   "source": [
    "def filter_long_words(words, n):\n",
    "    wordDict = mapWordLen(words)\n",
    "    for k,v in wordDict.items():\n",
    "        if v > n:\n",
    "            print k"
   ]
  },
  {
   "cell_type": "code",
   "execution_count": 174,
   "metadata": {
    "collapsed": false
   },
   "outputs": [
    {
     "name": "stdout",
     "output_type": "stream",
     "text": [
      "interger\n",
      "mapreduce\n",
      "character\n"
     ]
    }
   ],
   "source": [
    "filter_long_words(['list', 'dict', 'set', 'mapreduce', 'interger', 'character'], 7)"
   ]
  },
  {
   "cell_type": "markdown",
   "metadata": {},
   "source": [
    "13.Write a function char_freq() that takes a string and builds a frequency listing of the characters contained in it. Represent the frequency listing as a Python dictionary. Try it with something like char_freq(\"abbabcbdbabdbdbabababcbcbab\")."
   ]
  },
  {
   "cell_type": "code",
   "execution_count": 175,
   "metadata": {
    "collapsed": true
   },
   "outputs": [],
   "source": [
    "def char_freq(chars):\n",
    "    charDict = {}\n",
    "    for char in chars:\n",
    "        if charDict.has_key(char):\n",
    "            charDict[char] += 1\n",
    "        else:\n",
    "            charDict[char] = 1\n",
    "    return charDict"
   ]
  },
  {
   "cell_type": "code",
   "execution_count": 176,
   "metadata": {
    "collapsed": false
   },
   "outputs": [
    {
     "name": "stdout",
     "output_type": "stream",
     "text": [
      "{'a': 7, 'c': 3, 'b': 14, 'd': 3}\n"
     ]
    }
   ],
   "source": [
    "print char_freq(\"abbabcbdbabdbdbabababcbcbab\")"
   ]
  },
  {
   "cell_type": "markdown",
   "metadata": {},
   "source": [
    "14.Define a simple \"spelling correction\" function correct() that takes a string and sees to it that 1) two or more occurrences of the space character is compressed into one, and 2) inserts an extra space after a period if the period is directly followed by a letter. E.g. correct(\"This   is  very funny  and    cool.Indeed!\") should return \"This is very funny and cool. Indeed!\" Tip: Use regular expressions!"
   ]
  },
  {
   "cell_type": "markdown",
   "metadata": {},
   "source": [
    "目标：在‘.’后添加空格\n",
    "分析：在什么样的‘.’后加空格，‘.’后如果有空格肯定是不需要加空格，且如果‘.’后还是‘.’的时候也是不需要加的\n",
    "结论：所以用re.sub('\\.([^\\s\\.])', '. \\g<1>', str)\n",
    "注：\\.([^\\s\\.])表示‘.’后的字符不是空格和‘.’的时候"
   ]
  },
  {
   "cell_type": "code",
   "execution_count": 235,
   "metadata": {
    "collapsed": true
   },
   "outputs": [],
   "source": [
    "# 参考解释：https://www.crifan.com/python_re_sub_detailed_introduction/\n",
    "# re.sub(pattern, repl, string, count=0, flags=0)\n",
    "# 对于输入的一个字符串，利用正则表达式（的强大的字符串处理功能），实现（相对复杂的）字符串替换处理\n",
    "###################### 返回被替换后的字符串 ###########################\n",
    "\n",
    "# （1）pattern：正则中的模式字符串\n",
    "# （2）repl：替换字符串，其中的任何反斜杠转义字符都会被处理\n",
    "# \\g<name>，对应着命了名的组\n",
    "# （3）string：被替换的字符串\n",
    "# （4）count：被处理个数\n",
    "\n",
    "import re\n",
    "def correct(str):\n",
    "    # ([^\\s\\.]) 表示捕获非空白或非'.'的字符\n",
    "    # \\g<1> 把捕获的字符再填充过来\n",
    "    return re.sub(r'\\.([^\\s\\.])', '. \\g<1>', re.sub(r'\\s+', ' ', str))\n",
    "\n",
    "def correct2(str):\n",
    "    # ([^\\s\\.]) 表示捕获非空白或非'.'的字符\n",
    "    # \\g<1> 把捕获的字符再填充过来\n",
    "    return ''.join(re.sub(r'\\.([^\\s\\.])', '. \\g<1>', str).split(' '))"
   ]
  },
  {
   "cell_type": "code",
   "execution_count": 236,
   "metadata": {
    "collapsed": false
   },
   "outputs": [
    {
     "name": "stdout",
     "output_type": "stream",
     "text": [
      "This is very funny and cool. Indeed!\n",
      "Thisisveryfunnyandcool.Indeed!\n"
     ]
    }
   ],
   "source": [
    "print correct(\"This   is   very   funny and cool.   Indeed!\")\n",
    "print correct2(\"This   is   very   funny and cool.   Indeed!\")"
   ]
  },
  {
   "cell_type": "code",
   "execution_count": 209,
   "metadata": {
    "collapsed": false
   },
   "outputs": [
    {
     "name": "stdout",
     "output_type": "stream",
     "text": [
      "hello\n"
     ]
    }
   ],
   "source": [
    "import re\n",
    "\n",
    "# 将正则表达式编译成Pattern对象\n",
    "pattern = re.compile(r'hello')\n",
    "\n",
    "# 使用Pattern匹配文本，获得匹配结果，无法匹配时将返回None\n",
    "match = pattern.match('hello world!')\n",
    "\n",
    "if match:\n",
    "    # 使用Match获得分组信息\n",
    "    print match.group()\n",
    "\n",
    "### 输出 ###\n",
    "# hello"
   ]
  },
  {
   "cell_type": "markdown",
   "metadata": {},
   "source": [
    "15.Using the higher order function reduce(), write a function max_in_list() that takes a list of numbers and returns the largest one. Then ask yourself: why define and call a new function, when I can just as well call the reduce() function directly?"
   ]
  },
  {
   "cell_type": "code",
   "execution_count": 237,
   "metadata": {
    "collapsed": true
   },
   "outputs": [],
   "source": [
    "def max_in_list2(numlist):\n",
    "    return reduce(max, numlist)"
   ]
  },
  {
   "cell_type": "code",
   "execution_count": 238,
   "metadata": {
    "collapsed": false
   },
   "outputs": [
    {
     "name": "stdout",
     "output_type": "stream",
     "text": [
      "None\n",
      "1\n",
      "9\n",
      "9\n",
      "21\n"
     ]
    }
   ],
   "source": [
    "print max_in_list([])\n",
    "print max_in_list([1])\n",
    "print max_in_list([-1, 9])\n",
    "print max_in_list([5, 9, 0])\n",
    "print max_in_list([3,6,8,9,21,3,-5])"
   ]
  },
  {
   "cell_type": "markdown",
   "metadata": {},
   "source": [
    "16.Write a program that maps a list of words into a list of integers representing the lengths of the corresponding words. Write it in three different ways: 1) using a for-loop, 2) using the higher order function map(), and 3) using list comprehensions."
   ]
  },
  {
   "cell_type": "code",
   "execution_count": 257,
   "metadata": {
    "collapsed": true
   },
   "outputs": [],
   "source": [
    "def mapWordsbyFor(words):\n",
    "    wordDict = {}\n",
    "    for i,word in enumerate(words):\n",
    "        wordDict[word] = len(word)\n",
    "    return wordDict.values()\n",
    "\n",
    "def mapWordsbyMap(words):\n",
    "    return map(len, words)\n",
    "# test fromkeys()\n",
    "def mapWordsbyMap2(words):\n",
    "    wordDict = dict.fromkeys(words, map(len, words))\n",
    "    return wordDict\n",
    "\n",
    "def mapWordsbyList(words):\n",
    "    wordDict = {}\n",
    "    for word in words:\n",
    "        cnt = 0\n",
    "        for i in list(word):\n",
    "            cnt += 1\n",
    "        wordDict[word] = cnt\n",
    "    return wordDict.values()"
   ]
  },
  {
   "cell_type": "code",
   "execution_count": 258,
   "metadata": {
    "collapsed": false
   },
   "outputs": [
    {
     "name": "stdout",
     "output_type": "stream",
     "text": [
      "[1, 2, 7]\n",
      "[1, 2, 7]\n",
      "[1, 2, 7]\n"
     ]
    }
   ],
   "source": [
    "print mapWordsbyFor(['I', 'am', 'student'])\n",
    "print mapWordsbyMap(['I', 'am', 'student'])\n",
    "# print mapWordsbyMap2(['I', 'am', 'student'])\n",
    "print mapWordsbyList(['I', 'am', 'student'])"
   ]
  },
  {
   "cell_type": "markdown",
   "metadata": {},
   "source": [
    "17.A sentence splitter is a program capable of splitting a text into sentences. The standard set of heuristics for sentence splitting includes (but isn't limited to) the following rules:\n",
    "\n",
    "Sentence boundaries occur at one of \".\" (periods), \"?\" or \"!\", except that\n",
    "\n",
    "1.Periods followed by whitespace followed by a lower case letter are not sentence boundaries.（e. g.）\n",
    "\n",
    "2.Periods followed by a digit with no intervening whitespace are not sentence boundaries.(1.3)\n",
    "\n",
    "3.Periods followed by whitespace and then an upper case letter, but preceded by any of a short list of titles are not sentence boundaries. Sample titles include Mr., Mrs., Dr., and so on.\n",
    "\n",
    "4.Periods internal to a sequence of letters with no adjacent whitespace are not sentence boundaries (for example, www.aptex.com, or e.g).\n",
    "\n",
    "5.Periods followed by certain kinds of punctuation (notably comma and more periods) are probably not sentence boundaries.\n",
    "\n",
    "\n",
    "6.Your task here is to write a program that given the name of a text file is able to write its content with each sentence on a separate line. Test your program with the following short text:\n",
    "\n",
    "    Mr. Smith bought cheapsite.com for 1.5 million dollars, i.e. he paid a lot for it. Did he mind? Adam Jones Jr. thinks he didn't. In any case, this isn't true... Well, with a probability of .9 it isn't.\n",
    "    \n",
    "The result should be:\n",
    "\n",
    "  Mr. Smith bought cheapsite.com for 1.5 million dollars, i.e. he paid a lot for it.\n",
    "  \n",
    "  Did he mind?\n",
    "  \n",
    "  Adam Jones Jr. thinks he didn't.\n",
    "  \n",
    "  In any case, this isn't true...\n",
    "  \n",
    "  Well, with a probability of .9 it isn't."
   ]
  },
  {
   "cell_type": "code",
   "execution_count": null,
   "metadata": {
    "collapsed": true
   },
   "outputs": [],
   "source": []
  },
  {
   "cell_type": "markdown",
   "metadata": {
    "collapsed": true
   },
   "source": [
    "7.Your task in this exercise is as follows:\n",
    "\n",
    "Generate a string with N opening brackets (\"[\") and N closing brackets (\"]\"), in some arbitrary order.\n",
    "\n",
    "Determine whether the generated string is balanced; that is, whether it consists entirely of pairs of opening/closing brackets (in that order), none of which mis-nest.\n",
    "\n",
    "Examples:\n",
    "\n",
    "     []        OK   ][        NOT OK     \n",
    "     [][]      OK   ][][      NOT OK     \n",
    "     [[][]]    OK   []][[]    NOT OK"
   ]
  },
  {
   "cell_type": "code",
   "execution_count": 17,
   "metadata": {
    "collapsed": true
   },
   "outputs": [],
   "source": [
    "import re\n",
    "from random import random,shuffle\n",
    "\n",
    "def validate_brackets(string):\n",
    "    string = re.sub(r'\\s+', '', string)    \n",
    "    while len( re.findall(r'\\[]',string)) > 0:\n",
    "        string = re.sub(r'\\[]', '', string)\n",
    "        \n",
    "    if len(string) > 0:\n",
    "        return False\n",
    "    else:\n",
    "        return True\n",
    "    \n",
    "def validate_brackets2():\n",
    "    n = int(random()*5 + 5)\n",
    "    str1 = list('[]' * n)\n",
    "    shuffle(str1)\n",
    "    str1 = ''.join(str1)\n",
    "    str2 = str1 \n",
    "    while re.match(r'\\[]', str2):\n",
    "        str2 = re.sub(r'\\[]', '', str2)\n",
    "        \n",
    "    if len(str2) > 0:\n",
    "        print('{} is NOT OK'.format(str1))\n",
    "    else:\n",
    "        print('{} is OK'.format(str1))"
   ]
  },
  {
   "cell_type": "code",
   "execution_count": 32,
   "metadata": {
    "collapsed": false
   },
   "outputs": [
    {
     "name": "stdout",
     "output_type": "stream",
     "text": [
      "[]  is OK\n",
      "[][] is OK\n",
      "[[][]]  is OK\n",
      "][ is NOT OK\n",
      "][][  is NOT OK\n",
      " []][[] is NOT OK\n"
     ]
    }
   ],
   "source": [
    "string = '''[] \n",
    "[][]\n",
    "[[][]] \n",
    "][\n",
    "][][ \n",
    " []][[]'''\n",
    "for str1 in string.split('\\n'):\n",
    "    res = validate_brackets(str1)\n",
    "    if res:\n",
    "        print('{} is OK'.format(str1))\n",
    "    else:\n",
    "        print('{} is NOT OK'.format(str1))"
   ]
  },
  {
   "cell_type": "code",
   "execution_count": 33,
   "metadata": {
    "collapsed": false
   },
   "outputs": [
    {
     "name": "stdout",
     "output_type": "stream",
     "text": [
      "[[]]]]][[][[[][[]] is NOT OK\n",
      "[[[[]][]]][[]]][ is NOT OK\n",
      "[]]][[[][] is NOT OK\n",
      "][]][[][]]][][[[ is NOT OK\n",
      "]]][][[[][ is NOT OK\n",
      "[][]][][[[]] is NOT OK\n"
     ]
    }
   ],
   "source": [
    "for i in range(6):\n",
    "    res = validate_brackets2()"
   ]
  },
  {
   "cell_type": "code",
   "execution_count": null,
   "metadata": {
    "collapsed": true
   },
   "outputs": [],
   "source": []
  }
 ],
 "metadata": {
  "kernelspec": {
   "display_name": "Python 3",
   "language": "python",
   "name": "python3"
  },
  "language_info": {
   "codemirror_mode": {
    "name": "ipython",
    "version": 3
   },
   "file_extension": ".py",
   "mimetype": "text/x-python",
   "name": "python",
   "nbconvert_exporter": "python",
   "pygments_lexer": "ipython3",
   "version": "3.6.1"
  }
 },
 "nbformat": 4,
 "nbformat_minor": 2
}
