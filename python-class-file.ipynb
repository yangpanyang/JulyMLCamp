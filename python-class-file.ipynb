{
 "cells": [
  {
   "cell_type": "markdown",
   "metadata": {},
   "source": [
    "1、不定长度的arguments *argv\n",
    "\n",
    "2、把一个tuple/list当做一个argument传参，*表示把变量拆开或打包\n",
    "\n",
    "3、基类、抽象类(from abc import ABC, abstractmethod      @abstractmethod)\n",
    "\n",
    "4、文件读写操作（with open(\"data/out2.cvs\", 'w') as fout）:fout.write())\n",
    "\n",
    "5、csv类型文件\n",
    "\n",
    "6、json类型文件：loads()-转str类型文件等"
   ]
  },
  {
   "cell_type": "markdown",
   "metadata": {},
   "source": [
    "## Homeworks"
   ]
  },
  {
   "cell_type": "markdown",
   "metadata": {},
   "source": [
    "1、Create the sequence [0, 3, 6, 9, ... N]. What is the problem if N is very large?\n",
    " \n",
    "Is there a better way if N is very large?"
   ]
  },
  {
   "cell_type": "code",
   "execution_count": 83,
   "metadata": {
    "collapsed": false
   },
   "outputs": [
    {
     "name": "stdout",
     "output_type": "stream",
     "text": [
      "[0, 3, 6, 9, 12, 15, 18, 21, 24, 27, 30, 33, 36, 39, 42, 45, 48, 51, 54, 57, 60, 63, 66, 69, 72, 75, 78, 81, 84, 87, 90, 93, 96, 99, 102, 105, 108, 111, 114, 117, 120, 123, 126, 129, 132, 135, 138, 141, 144, 147, 150, 153, 156, 159, 162, 165, 168, 171, 174, 177, 180, 183, 186, 189, 192, 195, 198, 201, 204, 207, 210, 213, 216, 219, 222, 225, 228, 231, 234, 237, 240, 243, 246, 249, 252, 255, 258, 261, 264, 267, 270, 273, 276, 279, 282, 285, 288, 291, 294, 297, 300, 303, 306, 309, 312, 315, 318, 321, 324, 327, 330, 333, 336, 339, 342, 345, 348, 351, 354, 357, 360, 363, 366, 369, 372, 375, 378, 381, 384, 387, 390, 393, 396, 399, 402, 405, 408, 411, 414, 417, 420, 423, 426, 429, 432, 435, 438, 441, 444, 447, 450, 453, 456, 459, 462, 465, 468, 471, 474, 477, 480, 483, 486, 489, 492, 495, 498, 501, 504, 507, 510, 513, 516, 519, 522, 525, 528, 531, 534, 537, 540, 543, 546, 549, 552, 555, 558, 561, 564, 567, 570, 573, 576, 579, 582, 585, 588, 591, 594, 597, 600, 603, 606, 609, 612, 615, 618, 621, 624, 627, 630, 633, 636, 639, 642, 645, 648, 651, 654, 657, 660, 663, 666, 669, 672, 675, 678, 681, 684, 687, 690, 693, 696, 699, 702, 705, 708, 711, 714, 717, 720, 723, 726, 729, 732, 735, 738, 741, 744, 747, 750, 753, 756, 759, 762, 765, 768, 771, 774, 777, 780, 783, 786, 789, 792, 795, 798, 801, 804, 807, 810, 813, 816, 819, 822, 825, 828, 831, 834, 837, 840, 843, 846, 849, 852, 855, 858, 861, 864, 867, 870, 873, 876, 879, 882, 885, 888, 891, 894, 897, 900, 903, 906, 909, 912, 915, 918, 921, 924, 927, 930, 933, 936, 939, 942, 945, 948, 951, 954, 957, 960, 963, 966, 969, 972, 975, 978, 981, 984, 987, 990, 993, 996, 999, 1002]\n"
     ]
    }
   ],
   "source": [
    "def create_range(n):\n",
    "    return range(0, n+3, 3)\n",
    "\n",
    "# print(list(create_range(1000)))\n",
    "a = create_range(1000)\n",
    "print(list(a))"
   ]
  },
  {
   "cell_type": "markdown",
   "metadata": {},
   "source": [
    "2、Find the difference between the biggest and smallest values in the list\n",
    " \n",
    "[4, 3, -9, 21, 0]"
   ]
  },
  {
   "cell_type": "code",
   "execution_count": 95,
   "metadata": {
    "collapsed": false
   },
   "outputs": [
    {
     "data": {
      "text/plain": [
       "12"
      ]
     },
     "execution_count": 95,
     "metadata": {},
     "output_type": "execute_result"
    }
   ],
   "source": [
    "def difference(numlist):\n",
    "    smallest = numlist[0]\n",
    "    biggest = numlist[0]\n",
    "    for i in numlist:\n",
    "        if smallest > i:\n",
    "            smallest = i\n",
    "        if biggest < i:\n",
    "            biggest = i\n",
    "    return smallest+biggest\n",
    "difference([4,3,-9,21,0])"
   ]
  },
  {
   "cell_type": "markdown",
   "metadata": {},
   "source": [
    "3、The same as 2. but use the absolute values in the list."
   ]
  },
  {
   "cell_type": "code",
   "execution_count": 102,
   "metadata": {
    "collapsed": false
   },
   "outputs": [
    {
     "data": {
      "text/plain": [
       "21"
      ]
     },
     "execution_count": 102,
     "metadata": {},
     "output_type": "execute_result"
    }
   ],
   "source": [
    "def differenceAbs(numlist):\n",
    "    numlist = list(map(abs, numlist))\n",
    "    smallest = numlist[0]\n",
    "    biggest = numlist[0]\n",
    "    for i in numlist:\n",
    "        if smallest > i:\n",
    "            smallest = i\n",
    "        if biggest < i:\n",
    "            biggest = i\n",
    "    return smallest+biggest\n",
    "differenceAbs([4,3,-9,21,0])"
   ]
  },
  {
   "cell_type": "markdown",
   "metadata": {},
   "source": [
    "4、Convert a list:\n",
    "\n",
    "['Zero', 'One', 'Two', 'Three', 'Four', 'Five', 'Six', 'Seven', 'Eight', 'Nine']\n",
    "\n",
    "To a dictionary:\n",
    "{\n",
    "    0 : 'Zero',\n",
    "    1 : 'One',\n",
    "    2 : 'Two',\n",
    "    3 : 'Three',\n",
    "    4 : 'Four',\n",
    "    5 : 'Five',\n",
    "    6 : 'Six',\n",
    "    7 : 'Seven',\n",
    "    8 : 'Eight',\n",
    "    9 : 'Nine',\n",
    "}"
   ]
  },
  {
   "cell_type": "code",
   "execution_count": 103,
   "metadata": {
    "collapsed": false
   },
   "outputs": [
    {
     "data": {
      "text/plain": [
       "{0: 'Zero',\n",
       " 1: 'One',\n",
       " 2: 'Two',\n",
       " 3: 'Three',\n",
       " 4: 'Four',\n",
       " 5: 'Five',\n",
       " 6: 'Six',\n",
       " 7: 'Seven',\n",
       " 8: 'Eight',\n",
       " 9: 'Nine'}"
      ]
     },
     "execution_count": 103,
     "metadata": {},
     "output_type": "execute_result"
    }
   ],
   "source": [
    "str1 = ['Zero', 'One', 'Two', 'Three', 'Four', 'Five', 'Six', 'Seven', 'Eight', 'Nine']\n",
    "strDict = dict(zip(range(len(str1)), str1))\n",
    "strDict"
   ]
  },
  {
   "cell_type": "markdown",
   "metadata": {},
   "source": [
    "5、I have two list a and b. Is there a way that I can tell if they are the same list? For example in the following case they are the same list:\n",
    "\n",
    "a = [1, 2, 3]\n",
    "\n",
    "b = a\n",
    "\n",
    "And any change to b be will be 'seen' by a.\n",
    "\n",
    "However in this case a and b are not the same list in the sense that any change to b be will NOT be 'seen' by a. \n",
    "\n",
    "a = [1, 2, 3]\n",
    "\n",
    "b = [1, 2, 3]"
   ]
  },
  {
   "cell_type": "code",
   "execution_count": 104,
   "metadata": {
    "collapsed": false
   },
   "outputs": [
    {
     "name": "stdout",
     "output_type": "stream",
     "text": [
      "True\n",
      "False\n"
     ]
    }
   ],
   "source": [
    "a = [1, 2, 3]\n",
    "b = a\n",
    "print(id(a) == id(b))\n",
    "\n",
    "a = [1, 2, 3]\n",
    "b = [1, 2, 3]\n",
    "print(id(a) == id(b))"
   ]
  },
  {
   "cell_type": "markdown",
   "metadata": {
    "collapsed": true
   },
   "source": [
    "6、正则表达式练习"
   ]
  },
  {
   "cell_type": "code",
   "execution_count": 12,
   "metadata": {
    "collapsed": false
   },
   "outputs": [
    {
     "name": "stdout",
     "output_type": "stream",
     "text": [
      "288\n",
      "ABCDEFGH\n",
      "1A2B3C4D\n",
      "\n",
      "Hello world\n",
      "42\n",
      "[144, 'abcdefgh', 'None', 'None', 'hello world', 21]\n"
     ]
    }
   ],
   "source": [
    "import re\n",
    "text = \"\"\"288\n",
    "ABCDEFGH\n",
    "1A2B3C4D\n",
    "\n",
    "Hello world\n",
    "42\"\"\"\n",
    "result = []\n",
    "for l in text.split('\\n'):\n",
    "    print(l)\n",
    "    if re.match('^\\d+$', l):\n",
    "        result.append(int(int(l)/2))\n",
    "    elif re.match('^\\D+$', l):\n",
    "        result.append(str(l).lower())\n",
    "    else:\n",
    "        result.append('None')\n",
    "print(result)"
   ]
  },
  {
   "cell_type": "markdown",
   "metadata": {},
   "source": [
    "7、从第n个字符开始随机打乱语句内字母的顺序"
   ]
  },
  {
   "cell_type": "code",
   "execution_count": 58,
   "metadata": {
    "collapsed": false
   },
   "outputs": [
    {
     "name": "stdout",
     "output_type": "stream",
     "text": [
      "Numrcei is a heged fudn opgriatne out of oficfes in Bostno \n"
     ]
    }
   ],
   "source": [
    "from random import shuffle\n",
    "str1 = 'Numeric is a hedge fund operating out of offices in Boston'\n",
    "strList = str1.split(' ')\n",
    "n = 2\n",
    "strList2 = ''\n",
    "for idx, word in enumerate(strList):\n",
    "    strtmp1 = list(word)[:n]\n",
    "    strtmp2 = list(word)[n:]\n",
    "    shuffle(strtmp2)\n",
    "    strtmp1 += strtmp2\n",
    "    strList2 += ''.join(strtmp1) + ' '\n",
    "    \n",
    "print(strList2)\n",
    "# help(shuffle)"
   ]
  },
  {
   "cell_type": "markdown",
   "metadata": {},
   "source": [
    "## Training"
   ]
  },
  {
   "cell_type": "code",
   "execution_count": 7,
   "metadata": {
    "collapsed": false
   },
   "outputs": [],
   "source": [
    "# test map-reduce function\n",
    "from functools import reduce\n",
    "def str2float(s):\n",
    "    cnt = 0\n",
    "    \n",
    "    def f(a, b):\n",
    "        nonlocal cnt\n",
    "        if b == -1:\n",
    "            cnt = 1\n",
    "            return a\n",
    "        elif cnt == 0:\n",
    "            return a * 10 + b\n",
    "        else:\n",
    "            cnt *= 10\n",
    "            return a + b / cnt\n",
    "    \n",
    "    def char2num(c):\n",
    "        return {'0 ': 0, '1': 1, '2': 2, '3': 3, '4': 4, '5':5,\n",
    "                 '6': 6, '7 ': 7, '8': 8, '9': 9, '.': -1}[c]        \n",
    "        \n",
    "    return reduce(f, map(char2num, s), 0.0) "
   ]
  },
  {
   "cell_type": "code",
   "execution_count": 8,
   "metadata": {
    "collapsed": false
   },
   "outputs": [
    {
     "name": "stdout",
     "output_type": "stream",
     "text": [
      "str2float('123456.234') =  123456.234\n",
      "str2float(' .234') =  0.234\n"
     ]
    }
   ],
   "source": [
    "print('str2float(\\'123456.234\\') = ', str2float('123456.234'))\n",
    "print('str2float(\\' .234\\') = ', str2float('.234'))"
   ]
  },
  {
   "cell_type": "code",
   "execution_count": 17,
   "metadata": {
    "collapsed": true
   },
   "outputs": [],
   "source": [
    "# test arguments\n",
    "def f1(a, b, c = 0, *args, **kw):#位置参数a、b，默认参数c，可变参数*args，关键字参数**kw（可传入dict）\n",
    "    print('a = {}, b = {}, c = {}, args = {}, kw = {}'.format(a, b, c, args, kw))\n",
    "    \n",
    "\n",
    "def f2(a, b, c = 0, *, d, **kw):#位置参数a、b，默认参数c，命名关键字参数d（用*作为特殊分隔符），关键字参数**kw（可传入dict）\n",
    "    print('a = {}, b = {}, c = {}, d = {}, kw = {}'.format(a, b, c, d, kw))"
   ]
  },
  {
   "cell_type": "code",
   "execution_count": 23,
   "metadata": {
    "collapsed": false
   },
   "outputs": [
    {
     "name": "stdout",
     "output_type": "stream",
     "text": [
      "a = 1, b = 2, c = 3, args = (4,), kw = {'d': 99, 'x': '#'}\n"
     ]
    }
   ],
   "source": [
    "args = (1, 2, 3, 4)\n",
    "kw = {'d': 99, 'x': '#'}\n",
    "f1(*args, **kw)"
   ]
  },
  {
   "cell_type": "code",
   "execution_count": 25,
   "metadata": {
    "collapsed": false
   },
   "outputs": [
    {
     "name": "stdout",
     "output_type": "stream",
     "text": [
      "a = 1, b = 2, c = 3, d = #, kw = {'e': 99}\n"
     ]
    }
   ],
   "source": [
    "args2 = (1, 2, 3)\n",
    "kw2 = {'e': 99, 'd': '#'}# {'e': 99, 'x': '#'}错误：找不到关键字d\n",
    "f2(*args2, **kw2)"
   ]
  },
  {
   "cell_type": "code",
   "execution_count": 27,
   "metadata": {
    "collapsed": false
   },
   "outputs": [
    {
     "name": "stdout",
     "output_type": "stream",
     "text": [
      "[1]\n",
      "[1, 1]\n",
      "[1, 2, 1]\n",
      "[1, 3, 3, 1]\n",
      "[1, 4, 6, 4, 1]\n",
      "[1, 5, 10, 10, 5, 1]\n",
      "[1, 6, 15, 20, 15, 6, 1]\n",
      "[1, 7, 21, 35, 35, 21, 7, 1]\n",
      "[1, 8, 28, 56, 70, 56, 28, 8, 1]\n",
      "[1, 9, 36, 84, 126, 126, 84, 36, 9, 1]\n"
     ]
    }
   ],
   "source": [
    "# 用生成器（generator）构造杨辉三角\n",
    "def triangles():\n",
    "    L1 = [1]\n",
    "    cnt = 1\n",
    "    while True:\n",
    "        yield L1\n",
    "        i = 1\n",
    "        L2 = []\n",
    "        L2.append(L1[0])\n",
    "        while i < cnt:\n",
    "            L2.append(L1[i-1] + L1[i])\n",
    "            i += 1\n",
    "        L2.append(L1[i-1])\n",
    "        L1 = L2\n",
    "        cnt += 1\n",
    "\n",
    "n = 0\n",
    "for t in triangles():\n",
    "    print(t)\n",
    "    n += 1\n",
    "    if n == 10:\n",
    "        break"
   ]
  },
  {
   "cell_type": "code",
   "execution_count": 33,
   "metadata": {
    "collapsed": false
   },
   "outputs": [],
   "source": [
    "# use filter+Iterator to construct primes\n",
    "# （1）返回奇数的生成器\n",
    "def _odd_iter():\n",
    "    n = 1\n",
    "    while True:\n",
    "        n += 2\n",
    "        yield n\n",
    "        \n",
    "# （2）过滤能被整除的数\n",
    "def _not_divisible(n):\n",
    "    return lambda x : x % n > 0\n",
    "\n",
    "# （3）不断返回下一个素数的生成器\n",
    "def primes():\n",
    "    yield 2\n",
    "    it = _odd_iter()\n",
    "    while True:\n",
    "        n = next(it)\n",
    "        yield n\n",
    "        it = filter(_not_divisible(n), it)"
   ]
  },
  {
   "cell_type": "code",
   "execution_count": 50,
   "metadata": {
    "collapsed": false
   },
   "outputs": [
    {
     "name": "stdout",
     "output_type": "stream",
     "text": [
      "2 3 5 7 11 13 17 19 23 29 \n",
      "31 37 41 43 47 53 59 61 67 71 \n",
      "73 79 83 89 97 101 103 107 109 113 \n",
      "127 131 137 139 149 151 157 163 167 173 \n",
      "179 181 191 193 197 199 211 223 227 229 \n",
      "233 239 241 251 257 263 269 271 277 281 \n",
      "283 293 307 311 313 317 331 337 347 349 \n",
      "353 359 367 373 379 383 389 397 401 409 \n",
      "419 421 431 433 439 443 449 457 461 463 \n",
      "467 479 487 491 499 503 509 521 523 541 \n",
      "547 557 563 569 571 577 587 593 599 601 \n",
      "607 613 617 619 631 641 643 647 653 659 \n",
      "661 673 677 683 691 701 709 719 727 733 \n",
      "739 743 751 757 761 769 773 787 797 809 \n",
      "811 821 823 827 829 839 853 857 859 863 \n",
      "877 881 883 887 907 911 919 929 937 941 \n",
      "947 953 967 971 977 983 991 997 "
     ]
    }
   ],
   "source": [
    "# 打印1000以内的素数\n",
    "cnt = 1\n",
    "for n in primes():\n",
    "    if n < 1000:\n",
    "        print(n, end = ' ')\n",
    "        if (cnt % 10 == 0):\n",
    "            print()\n",
    "        cnt += 1\n",
    "    else:\n",
    "        break"
   ]
  },
  {
   "cell_type": "code",
   "execution_count": 59,
   "metadata": {
    "collapsed": false
   },
   "outputs": [
    {
     "name": "stdout",
     "output_type": "stream",
     "text": [
      "1 4 9\n"
     ]
    }
   ],
   "source": [
    "# 高阶函数将函数作为参数返回\n",
    "def count():\n",
    "    fs = []\n",
    "    for i in range(1,4):\n",
    "        def f():\n",
    "            return i*i\n",
    "        \n",
    "        fs.append(f())\n",
    "    return fs\n",
    "\n",
    "f1, f2, f3 = count()\n",
    "print(f1, f2, f3)"
   ]
  },
  {
   "cell_type": "code",
   "execution_count": 76,
   "metadata": {
    "collapsed": false
   },
   "outputs": [
    {
     "name": "stdout",
     "output_type": "stream",
     "text": [
      "<function count2.<locals>.f.<locals>.g at 0x000001D563A68158> <function count2.<locals>.f.<locals>.g at 0x000001D563A68BF8> <function count2.<locals>.f.<locals>.g at 0x000001D563A1FEA0>\n",
      "1 4 9\n",
      "[<function count2.<locals>.f.<locals>.g at 0x000001D5639B9048>, <function count2.<locals>.f.<locals>.g at 0x000001D563A41A60>, <function count2.<locals>.f.<locals>.g at 0x000001D563A41488>]\n",
      "1 4 9\n"
     ]
    }
   ],
   "source": [
    "def count2():\n",
    "    def f(j):   # 返回函数\n",
    "        def g():\n",
    "            return j*j\n",
    "        return g\n",
    "    \n",
    "    fs = []\n",
    "    for i in range(1,4):        \n",
    "        fs.append(f(i))\n",
    "        # print(fs)\n",
    "    return fs\n",
    "\n",
    "f1, f2, f3 = count2() \n",
    "print(f1, f2, f3)\n",
    "print(f1(), f2(), f3())\n",
    "\n",
    "f1 = count2()\n",
    "print(f1)\n",
    "print(f1[0](), f1[1](), f1[2]())"
   ]
  }
 ],
 "metadata": {
  "kernelspec": {
   "display_name": "Python 3",
   "language": "python",
   "name": "python3"
  },
  "language_info": {
   "codemirror_mode": {
    "name": "ipython",
    "version": 3
   },
   "file_extension": ".py",
   "mimetype": "text/x-python",
   "name": "python",
   "nbconvert_exporter": "python",
   "pygments_lexer": "ipython3",
   "version": "3.6.1"
  }
 },
 "nbformat": 4,
 "nbformat_minor": 2
}
