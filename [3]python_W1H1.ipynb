{
 "cells": [
  {
   "cell_type": "markdown",
   "metadata": {
    "deletable": true,
    "editable": true
   },
   "source": [
    "## W1H1 机器学习集训营第一周周日线下集训笔记+本周总结\n",
   ]
  },
  {
   "cell_type": "markdown",
   "metadata": {},
   "source": [
    "## To-do:\n",
    "\n",
    "### 1、明天完成线下实训的google-python-exercise作业\n",
    "\n",
    "### 2、明天完成直方图练习题"
   ]
  },
  {
   "cell_type": "markdown",
   "metadata": {
    "collapsed": true,
    "deletable": true,
    "editable": true
   },
   "source": [
    "### 一、学习笔记指导（模板）\n",
    "#### Objective\n",
    "\n",
    "关于本周的学习, 你记得什么?完成了什么?\n",
    "\n",
    "#### Reflective\n",
    "\n",
    "\"你要如何形容本周的情绪？ 本周的高峰是什么?低点是什么?\"\n",
    "\n",
    "#### Interpretive\n",
    "\n",
    "本周学到了什么?一个重要的领悟是什么?\n",
    "\n",
    "#### Decisional\n",
    "\n",
    "\"如何用一句话形容本周的工作？ 有哪些工作需要明天继续努力?\""
   ]
  },
  {
   "cell_type": "markdown",
   "metadata": {
    "deletable": true,
    "editable": true
   },
   "source": [
    "### 二、集训营学习内容\n",
    "\n",
    "#### 注：不会的地方常用-------help(*)-------、-------dir(*)-------"
   ]
  },
  {
   "cell_type": "markdown",
   "metadata": {
    "deletable": true,
    "editable": true
   },
   "source": [
    "##### 1、map(function, iterable)：return a new iterator"
   ]
  },
  {
   "cell_type": "code",
   "execution_count": 1,
   "metadata": {
    "collapsed": false,
    "deletable": true,
    "editable": true
   },
   "outputs": [
    {
     "data": {
      "text/plain": [
       "[1, 4, 27, 16, 125, 36]"
      ]
     },
     "execution_count": 1,
     "metadata": {},
     "output_type": "execute_result"
    }
   ],
   "source": [
    "# lambda 将返回一个新的list\n",
    "list(map(lambda x: x ** 2 if x%2 == 0 else x**3, [1,2,3,4,5,6]))"
   ]
  },
  {
   "cell_type": "markdown",
   "metadata": {
    "deletable": true,
    "editable": true
   },
   "source": [
    "##### 2、reduce(function, iterable)：return the last result"
   ]
  },
  {
   "cell_type": "code",
   "execution_count": 2,
   "metadata": {
    "collapsed": false,
    "deletable": true,
    "editable": true
   },
   "outputs": [
    {
     "data": {
      "text/plain": [
       "21"
      ]
     },
     "execution_count": 2,
     "metadata": {},
     "output_type": "execute_result"
    }
   ],
   "source": [
    "from functools import reduce\n",
    "reduce(lambda x1, x2: x1 + x2, [1,2,3,4,5,6])"
   ]
  },
  {
   "cell_type": "markdown",
   "metadata": {
    "deletable": true,
    "editable": true
   },
   "source": [
    "##### 3、filter(function, iterable)：return a new iterator when it is true\n",
    "\n",
    "#### 事实证明filter不改变原data"
   ]
  },
  {
   "cell_type": "code",
   "execution_count": 76,
   "metadata": {
    "collapsed": false,
    "deletable": true,
    "editable": true
   },
   "outputs": [
    {
     "name": "stdout",
     "output_type": "stream",
     "text": [
      "filter begin :  [1, 2, 3, 4, 5, 6]\n",
      "filter end [2, 4, 6]\n"
     ]
    }
   ],
   "source": [
    "str1 = [1,2,3,4,5,6]\n",
    "str2 = list(filter(lambda x: x if x%2 == 0 else '', str1))\n",
    "print('filter begin : ', str1)\n",
    "print('filter end', str2)"
   ]
  },
  {
   "cell_type": "markdown",
   "metadata": {
    "deletable": true,
    "editable": true
   },
   "source": [
    "##### 4、object.sort()、sorted(my_list, key = str.lower/str.upper, reverse = True/False)\n",
    "\n",
    "### 区别：sort()在原list上做改变，但sorted()不改变原list而是返回一个新的list对象。"
   ]
  },
  {
   "cell_type": "code",
   "execution_count": 4,
   "metadata": {
    "collapsed": false,
    "deletable": true,
    "editable": true
   },
   "outputs": [
    {
     "name": "stdout",
     "output_type": "stream",
     "text": [
      "Help on built-in function sorted in module builtins:\n",
      "\n",
      "sorted(iterable, /, *, key=None, reverse=False)\n",
      "    Return a new list containing all items from the iterable in ascending order.\n",
      "    \n",
      "    A custom key function can be supplied to customize the sort order, and the\n",
      "    reverse flag can be set to request the result in descending order.\n",
      "\n"
     ]
    }
   ],
   "source": [
    "help(sorted)"
   ]
  },
  {
   "cell_type": "code",
   "execution_count": 5,
   "metadata": {
    "collapsed": false,
    "deletable": true,
    "editable": true
   },
   "outputs": [
    {
     "data": {
      "text/plain": [
       "[2, 8, 0, 3, 4, 5, 1, 7, 6]"
      ]
     },
     "execution_count": 5,
     "metadata": {},
     "output_type": "execute_result"
    }
   ],
   "source": [
    "from random import shuffle\n",
    "numlist = list( range(0, 9) )\n",
    "shuffle(numlist)  # 随即打乱list内的顺序\n",
    "numlist"
   ]
  },
  {
   "cell_type": "code",
   "execution_count": 6,
   "metadata": {
    "collapsed": false,
    "deletable": true,
    "editable": true
   },
   "outputs": [
    {
     "name": "stdout",
     "output_type": "stream",
     "text": [
      "Help on NoneType object:\n",
      "\n",
      "class NoneType(object)\n",
      " |  Methods defined here:\n",
      " |  \n",
      " |  __bool__(self, /)\n",
      " |      self != 0\n",
      " |  \n",
      " |  __new__(*args, **kwargs) from builtins.type\n",
      " |      Create and return a new object.  See help(type) for accurate signature.\n",
      " |  \n",
      " |  __repr__(self, /)\n",
      " |      Return repr(self).\n",
      "\n"
     ]
    }
   ],
   "source": [
    "help( numlist.sort() )"
   ]
  },
  {
   "cell_type": "code",
   "execution_count": 7,
   "metadata": {
    "collapsed": false,
    "deletable": true,
    "editable": true
   },
   "outputs": [
    {
     "data": {
      "text/plain": [
       "['__bool__',\n",
       " '__class__',\n",
       " '__delattr__',\n",
       " '__dir__',\n",
       " '__doc__',\n",
       " '__eq__',\n",
       " '__format__',\n",
       " '__ge__',\n",
       " '__getattribute__',\n",
       " '__gt__',\n",
       " '__hash__',\n",
       " '__init__',\n",
       " '__init_subclass__',\n",
       " '__le__',\n",
       " '__lt__',\n",
       " '__ne__',\n",
       " '__new__',\n",
       " '__reduce__',\n",
       " '__reduce_ex__',\n",
       " '__repr__',\n",
       " '__setattr__',\n",
       " '__sizeof__',\n",
       " '__str__',\n",
       " '__subclasshook__']"
      ]
     },
     "execution_count": 7,
     "metadata": {},
     "output_type": "execute_result"
    }
   ],
   "source": [
    "dir( numlist.sort() )"
   ]
  },
  {
   "cell_type": "code",
   "execution_count": 8,
   "metadata": {
    "collapsed": false,
    "deletable": true,
    "editable": true
   },
   "outputs": [
    {
     "data": {
      "text/plain": [
       "[0, 1, 2, 3, 4, 5, 6, 7, 8]"
      ]
     },
     "execution_count": 8,
     "metadata": {},
     "output_type": "execute_result"
    }
   ],
   "source": [
    "numlist"
   ]
  },
  {
   "cell_type": "code",
   "execution_count": 13,
   "metadata": {
    "collapsed": false,
    "deletable": true,
    "editable": true
   },
   "outputs": [
    {
     "name": "stdout",
     "output_type": "stream",
     "text": [
      "used by default method: ['Caroline', 'Panyang', 'Yangpan', 'caroline', 'panpan', 'yangYang']\n",
      "the original data: ['caroline', 'Caroline', 'Yangpan', 'Panyang', 'panpan', 'yangYang']\n",
      "change 'key' value: ['caroline', 'Caroline', 'panpan', 'Panyang', 'Yangpan', 'yangYang']\n",
      "change 'key' and 'reverse' value: ['yangYang', 'Yangpan', 'Panyang', 'panpan', 'caroline', 'Caroline']\n"
     ]
    }
   ],
   "source": [
    "strList = ['caroline', 'Caroline', 'Yangpan', 'Panyang', 'panpan', 'yangYang']\n",
    "print('used by default method:', sorted(strList))  # key默认时按照ASCII码从小到大排序。注：原list变量并未改变，而是返回一个新的list对象\n",
    "print('the original data:', strList)\n",
    "print('change \\'key\\' value:', sorted(strList, key=str.lower, reverse = False))\n",
    "print('change \\'key\\' and \\'reverse\\' value:', sorted(strList, key = str.lower, reverse = True))"
   ]
  },
  {
   "cell_type": "markdown",
   "metadata": {
    "deletable": true,
    "editable": true
   },
   "source": [
    "##### 5、zip：return( python3.6—a zip object，python2.7—a list of tuples)"
   ]
  },
  {
   "cell_type": "code",
   "execution_count": 14,
   "metadata": {
    "collapsed": false,
    "deletable": true,
    "editable": true
   },
   "outputs": [
    {
     "name": "stdout",
     "output_type": "stream",
     "text": [
      "Help on class zip in module builtins:\n",
      "\n",
      "class zip(object)\n",
      " |  zip(iter1 [,iter2 [...]]) --> zip object\n",
      " |  \n",
      " |  Return a zip object whose .__next__() method returns a tuple where\n",
      " |  the i-th element comes from the i-th iterable argument.  The .__next__()\n",
      " |  method continues until the shortest iterable in the argument sequence\n",
      " |  is exhausted and then it raises StopIteration.\n",
      " |  \n",
      " |  Methods defined here:\n",
      " |  \n",
      " |  __getattribute__(self, name, /)\n",
      " |      Return getattr(self, name).\n",
      " |  \n",
      " |  __iter__(self, /)\n",
      " |      Implement iter(self).\n",
      " |  \n",
      " |  __new__(*args, **kwargs) from builtins.type\n",
      " |      Create and return a new object.  See help(type) for accurate signature.\n",
      " |  \n",
      " |  __next__(self, /)\n",
      " |      Implement next(self).\n",
      " |  \n",
      " |  __reduce__(...)\n",
      " |      Return state information for pickling.\n",
      "\n"
     ]
    }
   ],
   "source": [
    "help( zip )"
   ]
  },
  {
   "cell_type": "markdown",
   "metadata": {
    "deletable": true,
    "editable": true
   },
   "source": [
    "### 注意：\n",
    "\n",
    "### （1）zip在python3.6和python2.7中使用方法大有不同，如python3.6中使用__next__()获取zip后的下一个tuple，python2.7中使用index()获取zip后tuple所在的位置。\n",
    "\n",
    "### （2）在函数调用中使用*list/tuple的方式表示将list/tuple分开，作为位置参数传递给对应函数（前提是对应函数支持不定个数的位置参数）\n",
    "\n",
    "#### 遇到将矩阵转置的操作也可用zip实现"
   ]
  },
  {
   "cell_type": "code",
   "execution_count": 26,
   "metadata": {
    "collapsed": false,
    "deletable": true,
    "editable": true
   },
   "outputs": [
    {
     "name": "stdout",
     "output_type": "stream",
     "text": [
      "(1, 4, 7)\n",
      "<zip object at 0x0000016B3B6F92C8>\n",
      "[(2, 3), (5, 6), (8, 9)]\n",
      "[]\n"
     ]
    }
   ],
   "source": [
    "result1 = zip([1,2,3], [4,5,6], [7,8,9])  # 此时 list(result1) = [(1, 4, 7),(2, 5, 8), (3, 6, 9)]，但如果使用此操作result1将变为空值\n",
    "print(result1.__next__())      # 取出 result1 的第一个tuple\n",
    "print(result1)\n",
    "print(list(zip(*result1)))  # 这是一个unzip的过程，等价于zip((2, 5, 8), (3, 6, 9))，类似于“矩阵转置”操作\n",
    "print(list(result1)) # result内值已全被取出"
   ]
  },
  {
   "cell_type": "code",
   "execution_count": 27,
   "metadata": {
    "collapsed": false,
    "deletable": true,
    "editable": true
   },
   "outputs": [
    {
     "name": "stdout",
     "output_type": "stream",
     "text": [
      "(1, 4, 7)\n",
      "[]\n",
      "[]\n"
     ]
    }
   ],
   "source": [
    "result2 = zip([1], [4,5], [7,8,9])\n",
    "print(result2.__next__())\n",
    "print(list(zip(*result2)))\n",
    "print(list(result2))"
   ]
  },
  {
   "cell_type": "code",
   "execution_count": 36,
   "metadata": {
    "collapsed": false,
    "deletable": true,
    "editable": true
   },
   "outputs": [
    {
     "name": "stdout",
     "output_type": "stream",
     "text": [
      "[x] * 3:  [[1, 2, 3], [1, 2, 3], [1, 2, 3]]\n",
      "zip(* [x] * 3):  [(1, 1, 1), (2, 2, 2), (3, 3, 3)]\n"
     ]
    }
   ],
   "source": [
    "x = [1, 2, 3]\n",
    "print( '[x] * 3: ', [x] * 3 )\n",
    "result3 = zip(* [x] * 3)\n",
    "print( 'zip(* [x] * 3): ', list(result3) )"
   ]
  },
  {
   "cell_type": "markdown",
   "metadata": {
    "deletable": true,
    "editable": true
   },
   "source": [
    "##### 6、python3.6 v.s. python2.7\n",
    "\n",
    "(1)使用__future__ 模块支持python3：division、print_function等\n",
    "\n",
    "(2)学习链接：https://segmentfault.com/a/1190000000618286#future_module\n",
    "\n",
    "https://wizardforcel.gitbooks.io/w3school-python/content/29.html"
   ]
  },
  {
   "cell_type": "code",
   "execution_count": 46,
   "metadata": {
    "collapsed": false,
    "deletable": true,
    "editable": true
   },
   "outputs": [
    {
     "name": "stdout",
     "output_type": "stream",
     "text": [
      "comprehension:  [range(0, 5), range(6, 9)]\n"
     ]
    }
   ],
   "source": [
    "print ('comprehension: ', [i for i in (range(5),range(6,9))])\n",
    "\n",
    "# print ('comprehension: ', [i for i in range(5),range(6,9)]) # python2.7\n",
    "# ('comprehension: ', [[0, 1, 2, 3, 4], [6, 7, 8]])"
   ]
  },
  {
   "cell_type": "markdown",
   "metadata": {
    "deletable": true,
    "editable": true
   },
   "source": [
    "##### 7、eval：实现string对dict、list、tuple的灵活转换"
   ]
  },
  {
   "cell_type": "code",
   "execution_count": 47,
   "metadata": {
    "collapsed": false,
    "deletable": true,
    "editable": true
   },
   "outputs": [
    {
     "name": "stdout",
     "output_type": "stream",
     "text": [
      "Help on built-in function eval in module builtins:\n",
      "\n",
      "eval(source, globals=None, locals=None, /)\n",
      "    Evaluate the given source in the context of globals and locals.\n",
      "    \n",
      "    The source may be a string representing a Python expression\n",
      "    or a code object as returned by compile().\n",
      "    The globals must be a dictionary and locals can be any mapping,\n",
      "    defaulting to the current globals and locals.\n",
      "    If only globals is given, locals defaults to it.\n",
      "\n"
     ]
    }
   ],
   "source": [
    "help( eval )"
   ]
  },
  {
   "cell_type": "code",
   "execution_count": 49,
   "metadata": {
    "collapsed": false,
    "deletable": true,
    "editable": true
   },
   "outputs": [
    {
     "name": "stdout",
     "output_type": "stream",
     "text": [
      "False\n",
      "eval('3+5') = 8\n"
     ]
    }
   ],
   "source": [
    "def test_first():\n",
    "    return 1\n",
    "\n",
    "def test_second(x):\n",
    "    return x\n",
    "\n",
    "tmp_dict = {'param': 5, 'test_first': test_first, 'test_second': test_second}\n",
    "condition = 'param == 5 and (test_second( test_first )() > 3)' # 注意function：test_second( test_first )()的调用方法\n",
    "\n",
    "# eval( condition, action )\n",
    "print(eval( condition, tmp_dict))\n",
    "print('eval(\\'3+5\\') = {}'.format(eval('3+5')))"
   ]
  },
  {
   "cell_type": "markdown",
   "metadata": {
    "deletable": true,
    "editable": true
   },
   "source": [
    "##### 8、dict\n",
    "\n",
    "##### dict.get(key, default_value)：若没有当前key则返回默认值default_value，但此 key-value 对并不插入原dict\n",
    "\n",
    "##### dict.setdefault(key, default_value)：若没有当前key则设置默认值default_value并加入原dict，否则无变化"
   ]
  },
  {
   "cell_type": "code",
   "execution_count": 50,
   "metadata": {
    "collapsed": false,
    "deletable": true,
    "editable": true
   },
   "outputs": [
    {
     "name": "stdout",
     "output_type": "stream",
     "text": [
      "8\n",
      "False\n",
      "{'dog': 5, 'cat': 8}\n"
     ]
    }
   ],
   "source": [
    "dict1 = {'dog': 5, 'cat': 7, 'cat': 8}\n",
    "print(dict1['cat'])\n",
    "print(dict1.get('ccc', 'False'))\n",
    "print(dict1)"
   ]
  },
  {
   "cell_type": "code",
   "execution_count": 51,
   "metadata": {
    "collapsed": false,
    "deletable": true,
    "editable": true
   },
   "outputs": [
    {
     "name": "stdout",
     "output_type": "stream",
     "text": [
      "{'dog': 5, 'cat': 8, 'asdf': '111'}\n",
      "{'dog': 5, 'cat': 8, 'asdf': '111'}\n"
     ]
    }
   ],
   "source": [
    "dict1.setdefault('asdf', '111')\n",
    "print(dict1)\n",
    "dict1.setdefault('cat', '111')\n",
    "print(dict1)"
   ]
  },
  {
   "cell_type": "markdown",
   "metadata": {
    "deletable": true,
    "editable": true
   },
   "source": [
    "##### 9、Iterator & Generator\n",
    "\n",
    "##### 链表结构在python中被称为可迭代对象，类似游标存储，需要用next不断获取"
   ]
  },
  {
   "cell_type": "code",
   "execution_count": 52,
   "metadata": {
    "collapsed": false,
    "deletable": true,
    "editable": true
   },
   "outputs": [
    {
     "data": {
      "text/plain": [
       "list"
      ]
     },
     "execution_count": 52,
     "metadata": {},
     "output_type": "execute_result"
    }
   ],
   "source": [
    "type([i ** 2 for i in range(10)])"
   ]
  },
  {
   "cell_type": "code",
   "execution_count": 53,
   "metadata": {
    "collapsed": false,
    "deletable": true,
    "editable": true
   },
   "outputs": [
    {
     "data": {
      "text/plain": [
       "generator"
      ]
     },
     "execution_count": 53,
     "metadata": {},
     "output_type": "execute_result"
    }
   ],
   "source": [
    "type(i ** 2 for i in range(10))"
   ]
  },
  {
   "cell_type": "markdown",
   "metadata": {
    "deletable": true,
    "editable": true
   },
   "source": [
    "##### 10、在python中灵活使用切片"
   ]
  },
  {
   "cell_type": "code",
   "execution_count": 55,
   "metadata": {
    "collapsed": false,
    "deletable": true,
    "editable": true
   },
   "outputs": [
    {
     "name": "stdout",
     "output_type": "stream",
     "text": [
      "987654321\n",
      "123456789\n"
     ]
    }
   ],
   "source": [
    "# 实现字符串反转，但不改变原数据\n",
    "str1 = '123456789'\n",
    "print(str1[::-1])\n",
    "print(str1)"
   ]
  },
  {
   "cell_type": "markdown",
   "metadata": {
    "collapsed": true,
    "deletable": true,
    "editable": true
   },
   "source": [
    "### 三、随堂作业"
   ]
  },
  {
   "cell_type": "markdown",
   "metadata": {},
   "source": [
    "##### 1、关于list的操作\n",
    "\n",
    "（1）将3个字符新建成一个list：直接list(a+b+c)、或者append\n",
    "\n",
    "（2）return the first、last、reversed list：根据list的特性coding，list[0]、list[-1]、list[::-1]\n",
    "\n",
    "（3）在由tuple组成的list内，选择每个tuple的第一个item：想用zip方法，先unzip再将tuple转为list\n",
    "\n",
    "#### list( ''.join( list( zip(*my_list) )[0] ) )"
   ]
  },
  {
   "cell_type": "code",
   "execution_count": 91,
   "metadata": {
    "collapsed": false
   },
   "outputs": [
    {
     "data": {
      "text/plain": [
       "['A', 'B', 'C']"
      ]
     },
     "execution_count": 91,
     "metadata": {},
     "output_type": "execute_result"
    }
   ],
   "source": [
    "my_list = [('A','x'), ('B','y'), ('C','z')]\n",
    "list( ''.join( list( zip(*my_list) )[0] ) )"
   ]
  },
  {
   "cell_type": "markdown",
   "metadata": {},
   "source": [
    "（4）将list的所有值+5： [item + 5 for item in x] _一定不要忘记\"[]\"\n",
    "\n",
    "（5）返回list中能被5整除的数：\n",
    "\n",
    "#### 使用filter方法：list( filter(lambda item: item if item % 5 == 0 else '', my_list) )\n",
    "\n",
    "#### 使用传统方法：[v for v in my_list if v%5 == 0]"
   ]
  },
  {
   "cell_type": "code",
   "execution_count": 92,
   "metadata": {
    "collapsed": false
   },
   "outputs": [
    {
     "name": "stdout",
     "output_type": "stream",
     "text": [
      "[10, 15, 15, 25, 50]\n"
     ]
    }
   ],
   "source": [
    "my_list2 = [1, 10,  15, 3, 12, 15, 25, 50]\n",
    "print( list( filter(lambda item: item if item % 5 == 0 else '', my_list2) ) )"
   ]
  },
  {
   "cell_type": "markdown",
   "metadata": {},
   "source": [
    "（6）合并两个list：list( zip(list1, list2) )\n",
    "\n",
    "（7）用list实现矩阵转置：\n",
    "\n",
    "#### 使用zip方法：list( zip(*my_list) )——但是list内部是tuple"
   ]
  },
  {
   "cell_type": "code",
   "execution_count": 109,
   "metadata": {
    "collapsed": false
   },
   "outputs": [
    {
     "name": "stdout",
     "output_type": "stream",
     "text": [
      "[(1, 'A'), (2, 'B'), (3, 'C')]\n"
     ]
    }
   ],
   "source": [
    "my_list3 = [\n",
    "        [1, 2, 3],\n",
    "        ['A', 'B', 'C'],\n",
    "    ]\n",
    "print(list(zip(*my_list3)))"
   ]
  },
  {
   "cell_type": "code",
   "execution_count": 130,
   "metadata": {
    "collapsed": false
   },
   "outputs": [
    {
     "name": "stdout",
     "output_type": "stream",
     "text": [
      "[(1, 'A')]\n"
     ]
    }
   ],
   "source": [
    "my_list4 = [\n",
    "        [1],\n",
    "        ['A', 'B'],\n",
    "    ]\n",
    "print( list( zip(*my_list4) ) )"
   ]
  },
  {
   "cell_type": "markdown",
   "metadata": {},
   "source": [
    "#### 使用传统法：下标转置实现矩阵转置——得到纯list数据\n",
    "\n",
    "## 一定不要忘记在最外层加‘[]’ [my_list[h][w] for h in range(height)]"
   ]
  },
  {
   "cell_type": "code",
   "execution_count": 139,
   "metadata": {
    "collapsed": true
   },
   "outputs": [],
   "source": [
    "def transpose( my_list ):\n",
    "    # （1）计算矩阵转置后的宽度，即原矩阵的高度\n",
    "    height = len( my_list )\n",
    "    # （2）计算最大可以转置的高度，即原矩阵宽度的最小值\n",
    "    width = min( len(lst) for lst in my_list )\n",
    "    # （3）按照新顺序放置my_list\n",
    "    result = []\n",
    "    for w in range(width):\n",
    "        result.append( [my_list[h][w] for h in range(height)] )\n",
    "    return result"
   ]
  },
  {
   "cell_type": "code",
   "execution_count": 140,
   "metadata": {
    "collapsed": false
   },
   "outputs": [
    {
     "name": "stdout",
     "output_type": "stream",
     "text": [
      "[[1, 'A'], [2, 'B'], [3, 'C']]\n",
      "[[1, 'A']]\n"
     ]
    }
   ],
   "source": [
    "print(transpose(my_list3))\n",
    "print(transpose(my_list4))"
   ]
  },
  {
   "cell_type": "markdown",
   "metadata": {},
   "source": [
    "（8）返回list内最大差距值：直接使用max()、min()方法\n",
    "\n",
    "（9）对list做旋转（左、右），有别于平移：结合使用pop()、insert()\n",
    "\n",
    "#### 需要检测空值情况下的旋转"
   ]
  },
  {
   "cell_type": "code",
   "execution_count": 143,
   "metadata": {
    "collapsed": true
   },
   "outputs": [],
   "source": [
    "def rotate_left(alist):\n",
    "    # l = ['A', 'B', 'C']----['B', 'C', 'A']\n",
    "    if len(alist):\n",
    "        return alist.append( alist.pop(0) )\n",
    "    else:\n",
    "        return alist\n",
    "\n",
    "def rotate_right(alist):\n",
    "    # l = ['A', 'B', 'C']----['C', 'A', 'B']\n",
    "    if len(alist):\n",
    "        return alist.insert( 0, alist.pop() )\n",
    "    else:\n",
    "        return alist\n",
    "\n",
    "def test_rotate_left():\n",
    "    l = ['A', 'B', 'C']\n",
    "    rotate_left(l)\n",
    "    print( l ==  ['B', 'C', 'A'] )\n",
    "\n",
    "def test_rotate_right():\n",
    "    l = ['A', 'B', 'C']\n",
    "    rotate_right(l)\n",
    "    print( l == ['C', 'A', 'B'] )\n",
    "\n",
    "def test_rotate_left_empty():\n",
    "    l = []\n",
    "    rotate_left(l)\n",
    "    print( l == [] )\n",
    "\n",
    "def test_rotate_right_empty():\n",
    "    l = []\n",
    "    rotate_right(l)\n",
    "    print( l == [] )"
   ]
  },
  {
   "cell_type": "code",
   "execution_count": 144,
   "metadata": {
    "collapsed": false
   },
   "outputs": [
    {
     "name": "stdout",
     "output_type": "stream",
     "text": [
      "True\n",
      "True\n",
      "True\n",
      "True\n"
     ]
    }
   ],
   "source": [
    "test_rotate_left()\n",
    "test_rotate_right()\n",
    "test_rotate_left_empty()\n",
    "test_rotate_right_empty()"
   ]
  },
  {
   "cell_type": "markdown",
   "metadata": {},
   "source": [
    "##### 2、哈希桶和直方图分布的处理\n",
    "\n",
    "（1）bucket_size是什么概念？\n",
    "\n",
    "### 错误理解成bucket_size是哈希桶范围的分隔区间大小，此处应该是对数据的缩放倍数。\n",
    "\n",
    "（2）如何处理float2int的问题？\n",
    "\n",
    "### 四舍五入取整：round()，第二个参数是保留小数点后多少位，默认为0，如round(3.5,1) ==> 3.5\n",
    "\n",
    "### 取小于等于的整数：math.floor(),,如math.floor(-1.5) ==> -2.0\n",
    "\n",
    "### 向上取整：math.ceil()\n",
    "\n",
    "### 向下取整：int()\n",
    "\n",
    "### 分别取整数部分和小数部分：math.modf()，返回一个元组"
   ]
  },
  {
   "cell_type": "code",
   "execution_count": 184,
   "metadata": {
    "collapsed": false
   },
   "outputs": [
    {
     "name": "stdout",
     "output_type": "stream",
     "text": [
      "round(-1.5) =  -2\n",
      "round(3.2) =  3\n",
      "round(3.7) =  4\n",
      "math.floor(-1.5) =  -2\n",
      "math.floor(3.2) =  3\n",
      "math.floor(3.7) =  3\n",
      "math.ceil(-1.5) =  -1\n",
      "math.ceil(3.2) =  4\n",
      "math.ceil(3.7) =  4\n",
      "int(-1.5) =  -1\n",
      "int(3.2) =  3\n",
      "math.modf(-1.5) =  (-0.5, -1.0)\n",
      "math.modf(3.2) =  (0.20000000000000018, 3.0)\n"
     ]
    }
   ],
   "source": [
    "import math\n",
    "print('round(-1.5) = ', round(-1.5))\n",
    "print('round(3.2) = ', round(3.2))\n",
    "print('round(3.7) = ', round(3.7))\n",
    "print('math.floor(-1.5) = ', math.floor(-1.5))\n",
    "print('math.floor(3.2) = ', math.floor(3.2))\n",
    "print('math.floor(3.7) = ', math.floor(3.7))\n",
    "print('math.ceil(-1.5) = ', math.ceil(-1.5))\n",
    "print('math.ceil(3.2) = ', math.ceil(3.2))\n",
    "print('math.ceil(3.7) = ', math.ceil(3.7))\n",
    "print('int(-1.5) = ', int(-1.5))\n",
    "print('int(3.2) = ', int(3.2))\n",
    "print('math.modf(-1.5) = ', math.modf(-1.5))\n",
    "print('math.modf(3.2) = ', math.modf(3.2))"
   ]
  },
  {
   "cell_type": "code",
   "execution_count": 200,
   "metadata": {
    "collapsed": true
   },
   "outputs": [],
   "source": [
    "import random"
   ]
  },
  {
   "cell_type": "code",
   "execution_count": 201,
   "metadata": {
    "collapsed": true
   },
   "outputs": [],
   "source": [
    "def float_list_to_int_dict(lst, buket_size = 1):\n",
    "    \"\"\"Takes a list of floats and a bucket size and return a dict of\n",
    "    { n : count, ...} where the count is the number of floats that drop into\n",
    "    the range (n - 0.5) * bucket_size to (n + 0.5) * bucket_size.\"\"\"\n",
    "    ret = {}\n",
    "    for val in lst:\n",
    "        k = int(round(val / bucket_size, 0))\n",
    "        try:\n",
    "            ret[k] += 1\n",
    "        except KeyError:\n",
    "            ret[k] = 1\n",
    "    print('float_list_to_int_dict2：', ret)\n",
    "    return ret"
   ]
  },
  {
   "cell_type": "code",
   "execution_count": 202,
   "metadata": {
    "collapsed": false
   },
   "outputs": [],
   "source": [
    "def pformat_histogram(d, bucket_size, char='+', width=80, key_format='%6.3f'):\n",
    "    \"\"\"Pretty formats a dict of {key : count, ...} as ASCII.\n",
    "    d is the dictionary that has the histogram counts.\n",
    "    bucket_size is the size of each bucket represented by a difference of 1\n",
    "    in the keys.\n",
    "    char is the character to use for the histogram bars.\n",
    "    width is the total width to use.\n",
    "    key_format is used to turn the keys into strings.\n",
    "    \n",
    "    Returns a string.\"\"\"\n",
    "    pass\n",
    "    '''\n",
    "    # How many columns will the key need when formatted?\n",
    "    key_width = max(len(key_format % (k * bucket_size)) for k in d.keys())\n",
    "    # Subtract that from the available width\n",
    "    width -= key_width\n",
    "    # Find the maximum value of items in any bucket\n",
    "    max_value = max(d.values())\n",
    "    # How much width does that need to print?\n",
    "    count_width = len(str(max_value))\n",
    "    # Subtract that from the available width\n",
    "    width -= count_width\n",
    "    # Subtract the length of other character we are using from the available width\n",
    "    width -= len(' []: ')\n",
    "    # Have we got enough width?\n",
    "    if width <= 0:\n",
    "        raise ValueError('Not enough width to pprint dict.')\n",
    "    # Now loop through the data\n",
    "    ret_list = []\n",
    "    for k in sorted(d.keys()):\n",
    "        # How long is the bar going to be?\n",
    "        bar_len = int( 0.5 + float(d[k]) * width / max_value)\n",
    "        # Create the bar\n",
    "        bar = char * bar_len\n",
    "        # Print the line, note the use of * to specify the width of different fields \n",
    "        ret_list.append('%-*s [%*d]: %s' % (key_width,\n",
    "                                            key_format % (k * bucket_size),\n",
    "                                            count_width,\n",
    "                                            d[k],\n",
    "                                            bar))\n",
    "    return '\\n'.join(ret_list)\n",
    "'''\n",
    "\n",
    "def pprint_histogram(d, bucket_size, char='+', width=80, key_format='%6.3f'):\n",
    "    \"\"\"Pretty prints a dict of {key : count, ...} as ASCII.\n",
    "    d is the dictionary that has the histogram counts.\n",
    "    bucket_size is the size of each bucket represented by a difference of 1\n",
    "    in the keys.\n",
    "    char is the character to use for the histogram bars.\n",
    "    width is the total width to use.\n",
    "    key_format is used to turn the keys into strings.\"\"\"\n",
    "    print( pformat_histogram(d, bucket_size, char, width, key_format) )"
   ]
  },
  {
   "cell_type": "code",
   "execution_count": 203,
   "metadata": {
    "collapsed": false,
    "deletable": true,
    "editable": true
   },
   "outputs": [],
   "source": [
    "def main():\n",
    "    LEN = 1000000\n",
    "    bucket_size = 2\n",
    "    # This will give us a normal distribution centred around 0.0 with a standard\n",
    "    # deviation of 1.0\n",
    "    mu, sigma = 0.0, 1.0\n",
    "    lst = [random.normalvariate(mu, sigma) for _ in range(LEN)]\n",
    "    d = float_list_to_int_dict(lst, bucket_size)\n",
    "    pprint_histogram(d, bucket_size)"
   ]
  },
  {
   "cell_type": "code",
   "execution_count": 204,
   "metadata": {
    "collapsed": false
   },
   "outputs": [
    {
     "name": "stdout",
     "output_type": "stream",
     "text": [
      "float_list_to_int_dict2： {1: 242286, -1: 240856, 0: 382804, -3: 5997, 2: 60878, -2: 60782, 3: 5915, 4: 251, -4: 226, 5: 3, -5: 2}\n",
      "None\n"
     ]
    }
   ],
   "source": [
    "main()"
   ]
  },
  {
   "cell_type": "markdown",
   "metadata": {},
   "source": [
    "### 四、在线课程笔记\n"
   ]
  },
  {
   "cell_type": "markdown",
   "metadata": {},
   "source": [
    "1、使用type()查看数据类型"
   ]
  },
  {
   "cell_type": "code",
   "execution_count": 205,
   "metadata": {
    "collapsed": false
   },
   "outputs": [
    {
     "data": {
      "text/plain": [
       "list"
      ]
     },
     "execution_count": 205,
     "metadata": {},
     "output_type": "execute_result"
    }
   ],
   "source": [
    "type( ['2'] )"
   ]
  },
  {
   "cell_type": "markdown",
   "metadata": {},
   "source": [
    "2、灵活使用切片 slicing，python特有\n",
    "\n",
    "3、字符串相关函数:upper() & lower()、startswith() & endswith()、strip()、split()、find()\n",
    "\n",
    "4、List：一种python的数据类型，表示一连串的数据的集合。tuple是不可更改的元组。set表示没有顺序的集合。dictionary表示存有键值对的字典。\n",
    "append、insert、pop、count、reverse、delete\n",
    "\n",
    "5、control statement：if-elif-else\n",
    "\n",
    "6、loops：for、while\n",
    "\n",
    "#### 注：关键字enumerate可同时获取到下标和值"
   ]
  },
  {
   "cell_type": "code",
   "execution_count": 209,
   "metadata": {
    "collapsed": false
   },
   "outputs": [
    {
     "name": "stdout",
     "output_type": "stream",
     "text": [
      "[0, 1, 1, 2, 3, 5, 8, 13, 21, 34, 55, 89, 144, 233, 377]\n"
     ]
    }
   ],
   "source": [
    "## 输出一个fibonacci数列\n",
    "'''\n",
    "a, b = b, a+b \n",
    "将一个tuple赋值，再将tuple展开\n",
    "'''\n",
    "fibs = []\n",
    "a = 0\n",
    "b = 1\n",
    "while a<500:\n",
    "    fibs.append(a)\n",
    "    a, b = b, a+b  # tuple (b, a+b)\n",
    "print(fibs)"
   ]
  },
  {
   "cell_type": "markdown",
   "metadata": {},
   "source": [
    "#### 使用强大的python实现"
   ]
  },
  {
   "cell_type": "code",
   "execution_count": 210,
   "metadata": {
    "collapsed": false
   },
   "outputs": [
    {
     "data": {
      "text/plain": [
       "{'apple': 0,\n",
       " 'bit': 1,\n",
       " 'chrome': 2,\n",
       " 'face': 3,\n",
       " 'google': 4,\n",
       " 'hack': 5,\n",
       " 'intern': 6,\n",
       " 'jack': 7,\n",
       " 'kaggle': 8}"
      ]
     },
     "execution_count": 210,
     "metadata": {},
     "output_type": "execute_result"
    }
   ],
   "source": [
    "vocab = [\"apple\", \"bit\", \"chrome\", \"face\", \"google\", \"hack\", \"intern\", \"jack\", \"kaggle\"]\n",
    "{k:v for v,k in enumerate(vocab)}"
   ]
  },
  {
   "cell_type": "markdown",
   "metadata": {},
   "source": [
    "7、不定长度的arguments表示：*argv\n",
    "\n",
    "8、把一个tuple/list当做一个argument传参，*表示把变量拆开或打包\n",
    "\n",
    "9、基类、抽象类(from abc import ABC, abstractmethod @abstractmethod)\n",
    "\n",
    "10、文件读写操作（with open(\"data/out2.cvs\", 'w') as fout）:fout.write())\n",
    "\n",
    "11、csv类型文件\n",
    "\n",
    "12、json类型文件：loads()-转str类型文件等\n",
    "\n",
    "### 习题注意：\n",
    "\n",
    "（1）使用id()辨识两个对象是否在内存上一致，并非表面上的值相同，如：a = [1, 2, 3]，b = a，print(id(a) == id(b))\n",
    "\n",
    "（2）常用正则表达式匹配：参考链接http://www.cnblogs.com/huxi/archive/2010/07/04/1771073.html\n",
    "\n",
    "（3）参数调用顺序：位置参数，默认参数，可变参数*args，命名关键字参数（用*分隔），关键字参数**kw（可传入dict）\n",
    "\n",
    "（4）在python中，高阶函数可将函数作为参数返回，但要特别注意调用方式\n",
    "\n",
    "### 五、一周学习总结\n",
    "\n",
    "#### 1、本周学习主要在基本语法和基础知识的复习和巩固，学习使用help和dir万能方法，总体对module、generator、iterator、list、dict、tuple、set、map、reduce、filter、zip、eval、enumerate、sort、sorted的再次熟悉和掌握，通过做习题快速理解并记忆，在正则化处理问题上做的不够好，还需要多加练习和复习。\n",
    "\n",
    "#### 2、本周学习还不涉及机器学习理论知识，属于比较基础的，虽然比较容易理解，但在很多细节上容易出错，通过做题、和同学们的讨论能快速进入学习状态并掌握学习内容，以后继续努力。\n",
    "\n",
    "#### 3、在掌握新知识的时候应该先懂其原理再coding，否则接受过程有点慢。\n",
    "\n",
    "#### 4、在七月各位老师的带领和大牛们影响下，本周学习兴趣高涨，希望接下来的时间里继续保持，夯实基础，寻求挑战，追求新的突破。大家一起加油，为了offer进军。"
   ]
  },
  {
   "cell_type": "code",
   "execution_count": null,
   "metadata": {
    "collapsed": true
   },
   "outputs": [],
   "source": []
  }
 ],
 "metadata": {
  "kernelspec": {
   "display_name": "Python 3",
   "language": "python",
   "name": "python3"
  },
  "language_info": {
   "codemirror_mode": {
    "name": "ipython",
    "version": 3
   },
   "file_extension": ".py",
   "mimetype": "text/x-python",
   "name": "python",
   "nbconvert_exporter": "python",
   "pygments_lexer": "ipython3",
   "version": "3.6.1"
  }
 },
 "nbformat": 4,
 "nbformat_minor": 2
}
